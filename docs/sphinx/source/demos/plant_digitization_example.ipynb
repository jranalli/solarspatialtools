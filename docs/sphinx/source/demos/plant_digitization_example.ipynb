{
 "cells": [
  {
   "cell_type": "markdown",
   "metadata": {},
   "source": [
    "# Digitizing Plant Layout Data\n",
    "\n",
    "There are serveral possible ways to digitize the plant's combiner layout data. Here is a partial overview of one way to do it using the open-source geographic information system (GIS) tool QGIS [1, 2]. There are also commercial GIS tools, as well as web-based tools like https://geojson.io/ that could possibly work. \n",
    "\n",
    "_NOTE: This demonstration uses an arbitrary example plant for illustration purposes. The plants used in later demos are not included here to protect their anonymity._\n",
    "\n",
    "[1] https://qgis.org/en/site/\n",
    "\n",
    "[2] https://github.com/qgis/QGIS"
   ]
  },
  {
   "cell_type": "markdown",
   "metadata": {},
   "source": [
    "## Manually outlining combiners in QGIS\n",
    "\n",
    "_NOTE: If your project design package includes shapefiles or other GIS-compatible data that includes combiners, you should start with that dataset as an alternative to this workflow. If you have PDF drawings, it is possible to add them as a layer in QGIS, georeference them, and then use them to trace combiner boundaries, but that is outside the scope of this demo. If you've already got your plant outlined in a GeoJSON format, you can jump ahead to Converting GeoJSON Data._\n",
    "\n",
    "Assuming you don't already have digitized/georeferenced data for you combiners, you can use QGIS to manually outline combiners. Start by creating a new project and adding a _QuickMapServices_ layer, like _Google Hybrid_ or _Bing Satellite_. \n",
    "\n",
    "\n",
    "<img src=\"images/qgis_01.png\" width=\"500\"/>\n",
    "\n",
    "Then zoom to your plant and add a new shapefile layer with _Layer_ > _Create Layer_ > _New Shapefile Layer..._\n",
    "\n",
    "<img src=\"images/qgis_02.png\" width=\"500\"/>\n",
    "\n",
    "Give the layer a name, select _Polygon_ as the goemetry type, and then add fields that can be used to filter and identify combiners. I chose to create _asset_type_ and _asset_name_ fields, where an asset type could be \"combiner\" or \"inverter\", and asset names could be things like \"CMB-001-01\". \n",
    "\n",
    "<img src=\"images/qgis_03.png\" width=\"300\"/>\n",
    "\n",
    "Then draw the feature polygons and assign values for the asset types and names. \n",
    "\n",
    "_NOTE: QGIS has the ability to copy/paste features, lock angles, and other functionality that could help here, but that is outside the scope of this demo._ \n",
    "\n",
    "<img src=\"images/qgis_04.png\" width=\"500\"/>\n",
    "\n",
    "Once you are done adding combiners, right-click the layer and select _Export_ > _Save Feature As..._:\n",
    "\n",
    "<img src=\"images/qgis_05.png\" width=\"500\"/>\n",
    "\n",
    "And then save as a GeoJSON file:\n",
    "\n",
    "<img src=\"images/qgis_06.png\" width=\"300\"/>\n",
    "\n",
    "_NOTE: Digitizing/georeferencing solar plant hardware is commonly done for aerial infrared (thermographic) scanning. Commercial providers of those services may be able to digitize your solar plants at a reasonable cost, and more efficiently than someone that is new to these processes._"
   ]
  },
  {
   "cell_type": "markdown",
   "metadata": {},
   "source": [
    "## Converting GeoJSON data\n",
    "\n",
    "Now that we have a GeoJSON file, we can use Python to convert it to relative coordinates in meters. "
   ]
  },
  {
   "cell_type": "code",
   "metadata": {
    "ExecuteTime": {
     "end_time": "2024-08-08T18:42:11.027305Z",
     "start_time": "2024-08-08T18:42:04.656747Z"
    }
   },
   "source": [
    "# we need geopandas and matplotlib, which are not automatically installed, so we'll install them if they're not present.\n",
    "try:\n",
    "    import geopandas as gpd\n",
    "except ImportError:\n",
    "    !pip install geopandas\n",
    "    import geopandas as gpd\n",
    "\n",
    "try:\n",
    "    import matplotlib\n",
    "except ImportError:\n",
    "    !pip install matplotlib\n",
    "    \n",
    "import pandas as pd"
   ],
   "outputs": [
    {
     "name": "stderr",
     "output_type": "stream",
     "text": [
      "\n",
      "[notice] A new release of pip is available: 23.2.1 -> 24.2\n",
      "[notice] To update, run: python.exe -m pip install --upgrade pip\n"
     ]
    },
    {
     "name": "stdout",
     "output_type": "stream",
     "text": [
      "Collecting geopandas\n",
      "  Obtaining dependency information for geopandas from https://files.pythonhosted.org/packages/c4/64/7d344cfcef5efddf9cf32f59af7f855828e9d74b5f862eddf5bfd9f25323/geopandas-1.0.1-py3-none-any.whl.metadata\n",
      "  Downloading geopandas-1.0.1-py3-none-any.whl.metadata (2.2 kB)\n",
      "Requirement already satisfied: numpy>=1.22 in d:\\code\\python\\solarspatialtools\\venv\\lib\\site-packages (from geopandas) (1.26.4)\n",
      "Collecting pyogrio>=0.7.2 (from geopandas)\n",
      "  Obtaining dependency information for pyogrio>=0.7.2 from https://files.pythonhosted.org/packages/c3/fa/45efa8c96744ddd92c3ce3a80ddba8512954cc7c5407876e2ff2ffea0c10/pyogrio-0.9.0-cp312-cp312-win_amd64.whl.metadata\n",
      "  Downloading pyogrio-0.9.0-cp312-cp312-win_amd64.whl.metadata (3.9 kB)\n",
      "Requirement already satisfied: packaging in d:\\code\\python\\solarspatialtools\\venv\\lib\\site-packages (from geopandas) (24.1)\n",
      "Requirement already satisfied: pandas>=1.4.0 in d:\\code\\python\\solarspatialtools\\venv\\lib\\site-packages (from geopandas) (2.2.2)\n",
      "Requirement already satisfied: pyproj>=3.3.0 in d:\\code\\python\\solarspatialtools\\venv\\lib\\site-packages (from geopandas) (3.6.1)\n",
      "Collecting shapely>=2.0.0 (from geopandas)\n",
      "  Obtaining dependency information for shapely>=2.0.0 from https://files.pythonhosted.org/packages/d4/c3/e98e3eb9f06def32b8e2454ab718cafb99149f023dff023e257125132d6e/shapely-2.0.5-cp312-cp312-win_amd64.whl.metadata\n",
      "  Downloading shapely-2.0.5-cp312-cp312-win_amd64.whl.metadata (7.2 kB)\n",
      "Requirement already satisfied: python-dateutil>=2.8.2 in d:\\code\\python\\solarspatialtools\\venv\\lib\\site-packages (from pandas>=1.4.0->geopandas) (2.9.0.post0)\n",
      "Requirement already satisfied: pytz>=2020.1 in d:\\code\\python\\solarspatialtools\\venv\\lib\\site-packages (from pandas>=1.4.0->geopandas) (2024.1)\n",
      "Requirement already satisfied: tzdata>=2022.7 in d:\\code\\python\\solarspatialtools\\venv\\lib\\site-packages (from pandas>=1.4.0->geopandas) (2024.1)\n",
      "Requirement already satisfied: certifi in d:\\code\\python\\solarspatialtools\\venv\\lib\\site-packages (from pyogrio>=0.7.2->geopandas) (2024.7.4)\n",
      "Requirement already satisfied: six>=1.5 in d:\\code\\python\\solarspatialtools\\venv\\lib\\site-packages (from python-dateutil>=2.8.2->pandas>=1.4.0->geopandas) (1.16.0)\n",
      "Downloading geopandas-1.0.1-py3-none-any.whl (323 kB)\n",
      "   ---------------------------------------- 0.0/323.6 kB ? eta -:--:--\n",
      "   ---- ---------------------------------- 41.0/323.6 kB 960.0 kB/s eta 0:00:01\n",
      "   ------------------------ --------------- 194.6/323.6 kB 2.4 MB/s eta 0:00:01\n",
      "   ---------------------------------------- 323.6/323.6 kB 2.8 MB/s eta 0:00:00\n",
      "Downloading pyogrio-0.9.0-cp312-cp312-win_amd64.whl (15.9 MB)\n",
      "   ---------------------------------------- 0.0/15.9 MB ? eta -:--:--\n",
      "   -- ------------------------------------- 1.0/15.9 MB 21.1 MB/s eta 0:00:01\n",
      "   ----- ---------------------------------- 2.2/15.9 MB 23.0 MB/s eta 0:00:01\n",
      "   ------ --------------------------------- 2.7/15.9 MB 19.4 MB/s eta 0:00:01\n",
      "   ----------- ---------------------------- 4.4/15.9 MB 23.5 MB/s eta 0:00:01\n",
      "   ------------- -------------------------- 5.6/15.9 MB 23.7 MB/s eta 0:00:01\n",
      "   --------------- ------------------------ 6.0/15.9 MB 21.4 MB/s eta 0:00:01\n",
      "   ------------------- -------------------- 7.8/15.9 MB 23.6 MB/s eta 0:00:01\n",
      "   ---------------------- ----------------- 8.9/15.9 MB 23.7 MB/s eta 0:00:01\n",
      "   ----------------------- ---------------- 9.2/15.9 MB 21.8 MB/s eta 0:00:01\n",
      "   --------------------------- ------------ 11.0/15.9 MB 24.2 MB/s eta 0:00:01\n",
      "   ------------------------------ --------- 12.2/15.9 MB 23.4 MB/s eta 0:00:01\n",
      "   --------------------------------- ------ 13.4/15.9 MB 25.2 MB/s eta 0:00:01\n",
      "   ------------------------------------ --- 14.4/15.9 MB 25.1 MB/s eta 0:00:01\n",
      "   ---------------------------------------  15.5/15.9 MB 23.4 MB/s eta 0:00:01\n",
      "   ---------------------------------------- 15.9/15.9 MB 24.2 MB/s eta 0:00:00\n",
      "Downloading shapely-2.0.5-cp312-cp312-win_amd64.whl (1.4 MB)\n",
      "   ---------------------------------------- 0.0/1.4 MB ? eta -:--:--\n",
      "   ------------------------------ --------- 1.1/1.4 MB 23.1 MB/s eta 0:00:01\n",
      "   ---------------------------------------- 1.4/1.4 MB 23.1 MB/s eta 0:00:00\n",
      "Installing collected packages: shapely, pyogrio, geopandas\n",
      "Successfully installed geopandas-1.0.1 pyogrio-0.9.0 shapely-2.0.5\n"
     ]
    }
   ],
   "execution_count": 1
  },
  {
   "cell_type": "markdown",
   "metadata": {},
   "source": [
    "Read in the GeoJSON file that we created with QGIS and preview the resulting DataFrame, which uses latitude and longitude coordinates in degrees:"
   ]
  },
  {
   "cell_type": "code",
   "metadata": {
    "ExecuteTime": {
     "end_time": "2024-08-08T18:42:15.367016Z",
     "start_time": "2024-08-08T18:42:11.027305Z"
    }
   },
   "source": [
    "data = gpd.read_file('data/digitized_plant.geojson')\n",
    "data.head()"
   ],
   "outputs": [
    {
     "data": {
      "text/plain": [
       "     id asset_type  asset_name  \\\n",
       "0  None   combiner  CMB-001-01   \n",
       "1  None   combiner  CMB-001-02   \n",
       "2  None   combiner  CMB-001-03   \n",
       "3  None   combiner  CMB-001-04   \n",
       "4  None   combiner  CMB-001-05   \n",
       "\n",
       "                                            geometry  \n",
       "0  MULTIPOLYGON (((-83.67303 33.68023, -83.67303 ...  \n",
       "1  MULTIPOLYGON (((-83.67282 33.68006, -83.67282 ...  \n",
       "2  MULTIPOLYGON (((-83.67261 33.67975, -83.67261 ...  \n",
       "3  MULTIPOLYGON (((-83.6724 33.67946, -83.6724 33...  \n",
       "4  MULTIPOLYGON (((-83.6722 33.67916, -83.6722 33...  "
      ],
      "text/html": [
       "<div>\n",
       "<style scoped>\n",
       "    .dataframe tbody tr th:only-of-type {\n",
       "        vertical-align: middle;\n",
       "    }\n",
       "\n",
       "    .dataframe tbody tr th {\n",
       "        vertical-align: top;\n",
       "    }\n",
       "\n",
       "    .dataframe thead th {\n",
       "        text-align: right;\n",
       "    }\n",
       "</style>\n",
       "<table border=\"1\" class=\"dataframe\">\n",
       "  <thead>\n",
       "    <tr style=\"text-align: right;\">\n",
       "      <th></th>\n",
       "      <th>id</th>\n",
       "      <th>asset_type</th>\n",
       "      <th>asset_name</th>\n",
       "      <th>geometry</th>\n",
       "    </tr>\n",
       "  </thead>\n",
       "  <tbody>\n",
       "    <tr>\n",
       "      <th>0</th>\n",
       "      <td>None</td>\n",
       "      <td>combiner</td>\n",
       "      <td>CMB-001-01</td>\n",
       "      <td>MULTIPOLYGON (((-83.67303 33.68023, -83.67303 ...</td>\n",
       "    </tr>\n",
       "    <tr>\n",
       "      <th>1</th>\n",
       "      <td>None</td>\n",
       "      <td>combiner</td>\n",
       "      <td>CMB-001-02</td>\n",
       "      <td>MULTIPOLYGON (((-83.67282 33.68006, -83.67282 ...</td>\n",
       "    </tr>\n",
       "    <tr>\n",
       "      <th>2</th>\n",
       "      <td>None</td>\n",
       "      <td>combiner</td>\n",
       "      <td>CMB-001-03</td>\n",
       "      <td>MULTIPOLYGON (((-83.67261 33.67975, -83.67261 ...</td>\n",
       "    </tr>\n",
       "    <tr>\n",
       "      <th>3</th>\n",
       "      <td>None</td>\n",
       "      <td>combiner</td>\n",
       "      <td>CMB-001-04</td>\n",
       "      <td>MULTIPOLYGON (((-83.6724 33.67946, -83.6724 33...</td>\n",
       "    </tr>\n",
       "    <tr>\n",
       "      <th>4</th>\n",
       "      <td>None</td>\n",
       "      <td>combiner</td>\n",
       "      <td>CMB-001-05</td>\n",
       "      <td>MULTIPOLYGON (((-83.6722 33.67916, -83.6722 33...</td>\n",
       "    </tr>\n",
       "  </tbody>\n",
       "</table>\n",
       "</div>"
      ]
     },
     "execution_count": 2,
     "metadata": {},
     "output_type": "execute_result"
    }
   ],
   "execution_count": 2
  },
  {
   "cell_type": "markdown",
   "metadata": {},
   "source": [
    "We want to create an anonymized dataset, where the distances are preserved, but the absolute position is relative to the plant. Set the origin latitude and longitude using the minimum latitude and longitude values (Southwest corner of the plant, in this case):"
   ]
  },
  {
   "cell_type": "code",
   "metadata": {
    "ExecuteTime": {
     "end_time": "2024-08-08T18:42:15.370040Z",
     "start_time": "2024-08-08T18:42:15.367016Z"
    }
   },
   "source": [
    "origin_long = data.geometry.get_coordinates().x.min()\n",
    "origin_lat = data.geometry.get_coordinates().y.min()"
   ],
   "outputs": [],
   "execution_count": 3
  },
  {
   "cell_type": "markdown",
   "metadata": {},
   "source": [
    "We'll then project by defining a custom coordinate reference system (CRS) using meters and based on that origin point. The `proj=aeqd` part of the projection creates an [azimuthal equidistant projection](https://proj4.org/en/9.4/operations/projections/aeqd.html), which is useful for measuring distances from a single point."
   ]
  },
  {
   "cell_type": "code",
   "metadata": {
    "ExecuteTime": {
     "end_time": "2024-08-08T18:42:15.380506Z",
     "start_time": "2024-08-08T18:42:15.370040Z"
    }
   },
   "source": [
    "custom_crs = \"+proj=aeqd +lat_0=\" + \\\n",
    "    str(origin_lat) + \" +lon_0=\" + \\\n",
    "    str(origin_long) + \" +datum=WGS84 +units=m\"\n",
    "\n",
    "# Convert to custom coordinate system\n",
    "data_utm = data.to_crs(custom_crs)"
   ],
   "outputs": [],
   "execution_count": 4
  },
  {
   "cell_type": "markdown",
   "metadata": {},
   "source": [
    "A quick plot to preview the combiners in the resulting data:"
   ]
  },
  {
   "cell_type": "code",
   "metadata": {
    "ExecuteTime": {
     "end_time": "2024-08-08T18:42:15.586501Z",
     "start_time": "2024-08-08T18:42:15.381510Z"
    }
   },
   "source": [
    "data_utm.loc[data_utm['asset_type']=='combiner'].plot(aspect='equal')"
   ],
   "outputs": [
    {
     "data": {
      "text/plain": [
       "<Axes: >"
      ]
     },
     "execution_count": 5,
     "metadata": {},
     "output_type": "execute_result"
    },
    {
     "data": {
      "text/plain": [
       "<Figure size 640x480 with 1 Axes>"
      ],
      "image/png": "[encoded data removed]"
     },
     "metadata": {},
     "output_type": "display_data"
    }
   ],
   "execution_count": 5
  },
  {
   "cell_type": "markdown",
   "metadata": {},
   "source": [
    "And write the results to a new GeoJSON file that uses meters relative to the plant corner for coordinates. The location of the plant is now anonymized."
   ]
  },
  {
   "cell_type": "code",
   "metadata": {
    "ExecuteTime": {
     "end_time": "2024-08-08T18:42:15.596677Z",
     "start_time": "2024-08-08T18:42:15.586501Z"
    }
   },
   "source": [
    "# Write new file\n",
    "data_utm.to_file('data/digitized_plant_meters.geojson', driver='GeoJSON') \n",
    "data_utm.head()"
   ],
   "outputs": [
    {
     "data": {
      "text/plain": [
       "     id asset_type  asset_name  \\\n",
       "0  None   combiner  CMB-001-01   \n",
       "1  None   combiner  CMB-001-02   \n",
       "2  None   combiner  CMB-001-03   \n",
       "3  None   combiner  CMB-001-04   \n",
       "4  None   combiner  CMB-001-05   \n",
       "\n",
       "                                            geometry  \n",
       "0  MULTIPOLYGON (((99.546 241.961, 99.546 224.268...  \n",
       "1  MULTIPOLYGON (((118.433 222.72, 118.433 191.75...  \n",
       "2  MULTIPOLYGON (((138.209 189.103, 138.21 158.58...  \n",
       "3  MULTIPOLYGON (((157.097 156.37, 157.097 125.40...  \n",
       "4  MULTIPOLYGON (((176.429 123.416, 176.429 105.7...  "
      ],
      "text/html": [
       "<div>\n",
       "<style scoped>\n",
       "    .dataframe tbody tr th:only-of-type {\n",
       "        vertical-align: middle;\n",
       "    }\n",
       "\n",
       "    .dataframe tbody tr th {\n",
       "        vertical-align: top;\n",
       "    }\n",
       "\n",
       "    .dataframe thead th {\n",
       "        text-align: right;\n",
       "    }\n",
       "</style>\n",
       "<table border=\"1\" class=\"dataframe\">\n",
       "  <thead>\n",
       "    <tr style=\"text-align: right;\">\n",
       "      <th></th>\n",
       "      <th>id</th>\n",
       "      <th>asset_type</th>\n",
       "      <th>asset_name</th>\n",
       "      <th>geometry</th>\n",
       "    </tr>\n",
       "  </thead>\n",
       "  <tbody>\n",
       "    <tr>\n",
       "      <th>0</th>\n",
       "      <td>None</td>\n",
       "      <td>combiner</td>\n",
       "      <td>CMB-001-01</td>\n",
       "      <td>MULTIPOLYGON (((99.546 241.961, 99.546 224.268...</td>\n",
       "    </tr>\n",
       "    <tr>\n",
       "      <th>1</th>\n",
       "      <td>None</td>\n",
       "      <td>combiner</td>\n",
       "      <td>CMB-001-02</td>\n",
       "      <td>MULTIPOLYGON (((118.433 222.72, 118.433 191.75...</td>\n",
       "    </tr>\n",
       "    <tr>\n",
       "      <th>2</th>\n",
       "      <td>None</td>\n",
       "      <td>combiner</td>\n",
       "      <td>CMB-001-03</td>\n",
       "      <td>MULTIPOLYGON (((138.209 189.103, 138.21 158.58...</td>\n",
       "    </tr>\n",
       "    <tr>\n",
       "      <th>3</th>\n",
       "      <td>None</td>\n",
       "      <td>combiner</td>\n",
       "      <td>CMB-001-04</td>\n",
       "      <td>MULTIPOLYGON (((157.097 156.37, 157.097 125.40...</td>\n",
       "    </tr>\n",
       "    <tr>\n",
       "      <th>4</th>\n",
       "      <td>None</td>\n",
       "      <td>combiner</td>\n",
       "      <td>CMB-001-05</td>\n",
       "      <td>MULTIPOLYGON (((176.429 123.416, 176.429 105.7...</td>\n",
       "    </tr>\n",
       "  </tbody>\n",
       "</table>\n",
       "</div>"
      ]
     },
     "execution_count": 6,
     "metadata": {},
     "output_type": "execute_result"
    }
   ],
   "execution_count": 6
  },
  {
   "cell_type": "markdown",
   "metadata": {},
   "source": [
    "## Exporting Data for Use by SolarSpatialTools\n",
    "The data is now converted to a relative rectilinear coordinate system. One data item that we frequently need for analyses (e.g. `field`) is the centroid of these positions. We can extract that data and save it to a convenient format, like CSV or h5. \n",
    "\n",
    "Since the shapes in the GeoJSON file are polygons, we can get the centroid of each shape using the `centroid` attribute. We will store this in a standard pandas DataFrame, indexed by the `asset_name` field that we created. We will also filter on `asset_type` of `combiner`, so that we don't include centroids of other assets that may have been digitized."
   ]
  },
  {
   "cell_type": "code",
   "metadata": {
    "ExecuteTime": {
     "end_time": "2024-08-08T18:42:15.602520Z",
     "start_time": "2024-08-08T18:42:15.596677Z"
    }
   },
   "source": [
    "data_boundaries = data_utm.loc[data_utm['asset_type']=='combiner']\n",
    "data_centroids = pd.DataFrame(\n",
    "    data_boundaries.centroid.get_coordinates().values,\n",
    "    index=data_utm.asset_name, columns=['E', 'N']\n",
    "    )\n",
    "data_centroids.head()"
   ],
   "outputs": [
    {
     "data": {
      "text/plain": [
       "                    E           N\n",
       "asset_name                       \n",
       "CMB-001-01  76.504393  232.462541\n",
       "CMB-001-02  63.430049  206.657679\n",
       "CMB-001-03  69.549150  173.841325\n",
       "CMB-001-04  78.919717  140.997993\n",
       "CMB-001-05  88.699994  114.623431"
      ],
      "text/html": [
       "<div>\n",
       "<style scoped>\n",
       "    .dataframe tbody tr th:only-of-type {\n",
       "        vertical-align: middle;\n",
       "    }\n",
       "\n",
       "    .dataframe tbody tr th {\n",
       "        vertical-align: top;\n",
       "    }\n",
       "\n",
       "    .dataframe thead th {\n",
       "        text-align: right;\n",
       "    }\n",
       "</style>\n",
       "<table border=\"1\" class=\"dataframe\">\n",
       "  <thead>\n",
       "    <tr style=\"text-align: right;\">\n",
       "      <th></th>\n",
       "      <th>E</th>\n",
       "      <th>N</th>\n",
       "    </tr>\n",
       "    <tr>\n",
       "      <th>asset_name</th>\n",
       "      <th></th>\n",
       "      <th></th>\n",
       "    </tr>\n",
       "  </thead>\n",
       "  <tbody>\n",
       "    <tr>\n",
       "      <th>CMB-001-01</th>\n",
       "      <td>76.504393</td>\n",
       "      <td>232.462541</td>\n",
       "    </tr>\n",
       "    <tr>\n",
       "      <th>CMB-001-02</th>\n",
       "      <td>63.430049</td>\n",
       "      <td>206.657679</td>\n",
       "    </tr>\n",
       "    <tr>\n",
       "      <th>CMB-001-03</th>\n",
       "      <td>69.549150</td>\n",
       "      <td>173.841325</td>\n",
       "    </tr>\n",
       "    <tr>\n",
       "      <th>CMB-001-04</th>\n",
       "      <td>78.919717</td>\n",
       "      <td>140.997993</td>\n",
       "    </tr>\n",
       "    <tr>\n",
       "      <th>CMB-001-05</th>\n",
       "      <td>88.699994</td>\n",
       "      <td>114.623431</td>\n",
       "    </tr>\n",
       "  </tbody>\n",
       "</table>\n",
       "</div>"
      ]
     },
     "execution_count": 7,
     "metadata": {},
     "output_type": "execute_result"
    }
   ],
   "execution_count": 7
  },
  {
   "cell_type": "markdown",
   "metadata": {},
   "source": [
    "You could now save the data as desired. Examples of CSV and h5 formats are shown below."
   ]
  },
  {
   "cell_type": "code",
   "metadata": {
    "ExecuteTime": {
     "end_time": "2024-08-08T18:42:16.986836Z",
     "start_time": "2024-08-08T18:42:15.602520Z"
    }
   },
   "source": [
    "data_centroids.to_csv(f'data/digitized_plant_centroids.csv')\n",
    "data_centroids.to_hdf(f'data/digitized_plant_centroids.h5', key='utm', mode='a', append=True)"
   ],
   "outputs": [],
   "execution_count": 8
  }
 ],
 "metadata": {
  "kernelspec": {
   "display_name": "Python 3",
   "language": "python",
   "name": "python3"
  },
  "language_info": {
   "codemirror_mode": {
    "name": "ipython",
    "version": 3
   },
   "file_extension": ".py",
   "mimetype": "text/x-python",
   "name": "python",
   "nbconvert_exporter": "python",
   "pygments_lexer": "ipython3",
   "version": "3.11.9"
  }
 },
 "nbformat": 4,
 "nbformat_minor": 2
}
