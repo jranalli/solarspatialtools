{
 "cells": [
  {
   "cell_type": "markdown",
   "source": [
    "# Field Analysis Demo\n",
    "\n",
    "Field analysis is a calculation method that is intended for validating the expected locations of various discrete plant components (e.g. combiners). It identifies cloud motion within the individual component time series and infers their positions based upon relative timing of the cloud signal to each individual component. A full description of the technique is available in a paper: J. Ranalli and W. Hobbs, PV Plant Equipment Labels and Layouts can be Validated by Analyzing Cloud Motion in Existing Plant Measurements, Submitted to IEEE Journal of Photovoltaics.   \n",
    "\n",
    "This demo utilizes sample data on a single plant to demonstrate the application of the method."
   ],
   "metadata": {
    "collapsed": false
   },
   "id": "d6c937c20b00bf63"
  },
  {
   "cell_type": "code",
   "execution_count": 1,
   "outputs": [],
   "source": [
    "import pandas as pd\n",
    "import numpy as np\n",
    "import matplotlib.pyplot as plt\n",
    "\n",
    "from solartoolbox import spatial, field"
   ],
   "metadata": {
    "collapsed": false,
    "ExecuteTime": {
     "end_time": "2023-10-27T20:16:42.515571900Z",
     "start_time": "2023-10-27T20:16:40.447789400Z"
    }
   },
   "id": "initial_id"
  },
  {
   "cell_type": "markdown",
   "source": [
    "## Read the Data\n",
    "The sample data file is a compressed H5 file that contains all the info used to perform the analysis. \n",
    "\n",
    "### The Plant Layout\n",
    "The layout of the plant is placed in the variable `pos_utm`. Its definition is contained in the field `latlon`, which produces a DataFrame of the combiner centroids in a UTM-like coordinate system. It contains combiner IDs as the index, and columns `E` and `N` that indicate the mean position of the combiner footprint (i.e. the centroid). The combiners are named following the pattern `CMB-<INVERTER#>-<COMBINER#>`."
   ],
   "metadata": {
    "collapsed": false
   },
   "id": "7fdc659b3f8ef0a"
  },
  {
   "cell_type": "code",
   "execution_count": 2,
   "outputs": [
    {
     "data": {
      "text/plain": "                    E            N\nCMB-001-1   23.584970  1086.290244\nCMB-001-2   49.679324  1086.290365\nCMB-001-3   84.519736  1086.290633\nCMB-001-4  125.324187  1086.291124\nCMB-001-5  160.281453  1086.291697\n...               ...          ...\nCMB-048-4  695.084107    31.788344\nCMB-048-5  729.924241    31.791192\nCMB-048-6  764.894729    31.794191\nCMB-048-7  799.739358    31.797319\nCMB-048-8  831.869055    31.800323\n\n[382 rows x 2 columns]",
      "text/html": "<div>\n<style scoped>\n    .dataframe tbody tr th:only-of-type {\n        vertical-align: middle;\n    }\n\n    .dataframe tbody tr th {\n        vertical-align: top;\n    }\n\n    .dataframe thead th {\n        text-align: right;\n    }\n</style>\n<table border=\"1\" class=\"dataframe\">\n  <thead>\n    <tr style=\"text-align: right;\">\n      <th></th>\n      <th>E</th>\n      <th>N</th>\n    </tr>\n  </thead>\n  <tbody>\n    <tr>\n      <th>CMB-001-1</th>\n      <td>23.584970</td>\n      <td>1086.290244</td>\n    </tr>\n    <tr>\n      <th>CMB-001-2</th>\n      <td>49.679324</td>\n      <td>1086.290365</td>\n    </tr>\n    <tr>\n      <th>CMB-001-3</th>\n      <td>84.519736</td>\n      <td>1086.290633</td>\n    </tr>\n    <tr>\n      <th>CMB-001-4</th>\n      <td>125.324187</td>\n      <td>1086.291124</td>\n    </tr>\n    <tr>\n      <th>CMB-001-5</th>\n      <td>160.281453</td>\n      <td>1086.291697</td>\n    </tr>\n    <tr>\n      <th>...</th>\n      <td>...</td>\n      <td>...</td>\n    </tr>\n    <tr>\n      <th>CMB-048-4</th>\n      <td>695.084107</td>\n      <td>31.788344</td>\n    </tr>\n    <tr>\n      <th>CMB-048-5</th>\n      <td>729.924241</td>\n      <td>31.791192</td>\n    </tr>\n    <tr>\n      <th>CMB-048-6</th>\n      <td>764.894729</td>\n      <td>31.794191</td>\n    </tr>\n    <tr>\n      <th>CMB-048-7</th>\n      <td>799.739358</td>\n      <td>31.797319</td>\n    </tr>\n    <tr>\n      <th>CMB-048-8</th>\n      <td>831.869055</td>\n      <td>31.800323</td>\n    </tr>\n  </tbody>\n</table>\n<p>382 rows × 2 columns</p>\n</div>"
     },
     "execution_count": 2,
     "metadata": {},
     "output_type": "execute_result"
    }
   ],
   "source": [
    "datafile = \"data/sample_plant_2.h5\"\n",
    "pos_utm = pd.read_hdf(datafile, mode=\"r\", key=\"latlon\")\n",
    "pos_utm"
   ],
   "metadata": {
    "collapsed": false,
    "ExecuteTime": {
     "end_time": "2023-10-27T20:16:44.292034200Z",
     "start_time": "2023-10-27T20:16:42.515571900Z"
    }
   },
   "id": "c4bd9a8bf5696227"
  },
  {
   "cell_type": "markdown",
   "source": [
    "### The Time Series Data\n",
    "The method relies on two discrete time periods with a fixed CMV. Two examples are stored in the data file with keys `data_a` and `data_b`. These each represent one hour of data for each combiner in the plant with a 10s sampling resolution. The DataFrames are indexed by a time that is artificially offset to begin at a time of `00:00:00` on an arbitrary day. The columns of the DataFrames have keys that match the index of `pos_utm`. "
   ],
   "metadata": {
    "collapsed": false
   },
   "id": "c7135940843ab931"
  },
  {
   "cell_type": "code",
   "execution_count": 3,
   "outputs": [
    {
     "data": {
      "text/plain": "                     CMB-001-1  CMB-001-2  CMB-001-3  CMB-001-4  CMB-001-5  \\\n2023-10-20 00:00:00  94.004660  94.191535  93.825414  94.524257  93.593720   \n2023-10-20 00:00:10  94.715213  95.026591  95.235316  95.313226  94.059705   \n2023-10-20 00:00:20  94.974593  95.454349  95.645314  96.036298  94.205323   \n2023-10-20 00:00:30  95.088573  95.615394  95.345973  95.981233  94.237682   \n2023-10-20 00:00:40  95.045343  95.747467  95.723331  96.036298  94.613061   \n...                        ...        ...        ...        ...        ...   \n2023-10-20 00:59:10  14.133280  13.202007  14.655109  13.395783  12.881261   \n2023-10-20 00:59:20  14.404453  13.254838  14.823617  13.414741  13.113848   \n2023-10-20 00:59:30  14.615891  13.367315  14.889163  13.378633  13.346435   \n2023-10-20 00:59:40  14.642615  13.516433  14.928968  13.546058  13.341177   \n2023-10-20 00:59:50  14.626895  13.767801  15.089562  13.764367  13.538014   \n\n                     CMB-001-6  CMB-001-7  CMB-002-1  CMB-002-2  CMB-002-3  \\\n2023-10-20 00:00:00  93.664273  93.958268  95.461349  95.719286  95.927767   \n2023-10-20 00:00:10  94.617467  94.747432  95.842825  95.969763  95.909135   \n2023-10-20 00:00:20  94.944385  95.133431  95.812550  95.954695  95.473800   \n2023-10-20 00:00:30  94.937895  95.262955  95.679329  96.124116  96.285184   \n2023-10-20 00:00:40  94.905447  95.363743  95.546119  95.945735  95.734666   \n...                        ...        ...        ...        ...        ...   \n2023-10-20 00:59:10  13.347467  14.003394  13.791540  13.315670   8.638013   \n2023-10-20 00:59:20  13.495515  14.149646  13.751172  13.336033   8.324643   \n2023-10-20 00:59:30  13.486185  14.236283  13.841595  13.356398   8.709157   \n2023-10-20 00:59:40  13.703593  14.304906  13.964716  13.376761   8.400868   \n2023-10-20 00:59:50  13.898008  14.531361  13.989340  13.524526   8.720212   \n\n                     ...  CMB-047-7  CMB-047-8  CMB-048-1  CMB-048-2  \\\n2023-10-20 00:00:00  ...  93.070936  93.000639  91.270596  91.580108   \n2023-10-20 00:00:10  ...  92.952733  93.076070  91.488586  92.046498   \n2023-10-20 00:00:20  ...  93.132510  92.933911  91.448184  91.995421   \n2023-10-20 00:00:30  ...  93.141806  93.079938  91.639859  92.269237   \n2023-10-20 00:00:40  ...  93.085711  92.953253  91.693416  92.210614   \n...                  ...        ...        ...        ...        ...   \n2023-10-20 00:59:10  ...  14.273617  14.942827  15.556991  16.006977   \n2023-10-20 00:59:20  ...  14.611813  15.441840  14.767255  15.301101   \n2023-10-20 00:59:30  ...  14.643006  15.649762  14.721215  14.830516   \n2023-10-20 00:59:40  ...  14.278542  15.224247  14.594368  14.520702   \n2023-10-20 00:59:50  ...  14.209957  14.892540  14.642289  14.596063   \n\n                     CMB-048-3  CMB-048-4  CMB-048-5  CMB-048-6  CMB-048-7  \\\n2023-10-20 00:00:00  91.754487  91.728513  91.604793  91.947189  91.658315   \n2023-10-20 00:00:10  91.844898  91.939824  92.043528  91.853341  91.672593   \n2023-10-20 00:00:20  92.127925  91.927446  91.858514  91.925107  91.650284   \n2023-10-20 00:00:30  92.138932  91.830187  91.735162  92.055243  91.627975   \n2023-10-20 00:00:40  92.068175  91.732934  91.865540  91.888830  91.605665   \n...                        ...        ...        ...        ...        ...   \n2023-10-20 00:59:10  15.974375  16.503697  15.470764  15.709592  14.897047   \n2023-10-20 00:59:20  15.679551  17.480666  17.952487  17.909147  16.149065   \n2023-10-20 00:59:30  14.572583  16.211933  18.050850  18.745121  17.931160   \n2023-10-20 00:59:40  14.617396  15.746878  15.393478  15.898081  18.503179   \n2023-10-20 00:59:50  14.842249  15.849437  15.706522  16.252976  15.627911   \n\n                     CMB-048-8  \n2023-10-20 00:00:00  91.806175  \n2023-10-20 00:00:10  91.624886  \n2023-10-20 00:00:20  91.690636  \n2023-10-20 00:00:30  91.631461  \n2023-10-20 00:00:40  91.777057  \n...                        ...  \n2023-10-20 00:59:10  16.509679  \n2023-10-20 00:59:20  16.690024  \n2023-10-20 00:59:30  19.393341  \n2023-10-20 00:59:40  23.342175  \n2023-10-20 00:59:50  17.733592  \n\n[360 rows x 382 columns]",
      "text/html": "<div>\n<style scoped>\n    .dataframe tbody tr th:only-of-type {\n        vertical-align: middle;\n    }\n\n    .dataframe tbody tr th {\n        vertical-align: top;\n    }\n\n    .dataframe thead th {\n        text-align: right;\n    }\n</style>\n<table border=\"1\" class=\"dataframe\">\n  <thead>\n    <tr style=\"text-align: right;\">\n      <th></th>\n      <th>CMB-001-1</th>\n      <th>CMB-001-2</th>\n      <th>CMB-001-3</th>\n      <th>CMB-001-4</th>\n      <th>CMB-001-5</th>\n      <th>CMB-001-6</th>\n      <th>CMB-001-7</th>\n      <th>CMB-002-1</th>\n      <th>CMB-002-2</th>\n      <th>CMB-002-3</th>\n      <th>...</th>\n      <th>CMB-047-7</th>\n      <th>CMB-047-8</th>\n      <th>CMB-048-1</th>\n      <th>CMB-048-2</th>\n      <th>CMB-048-3</th>\n      <th>CMB-048-4</th>\n      <th>CMB-048-5</th>\n      <th>CMB-048-6</th>\n      <th>CMB-048-7</th>\n      <th>CMB-048-8</th>\n    </tr>\n  </thead>\n  <tbody>\n    <tr>\n      <th>2023-10-20 00:00:00</th>\n      <td>94.004660</td>\n      <td>94.191535</td>\n      <td>93.825414</td>\n      <td>94.524257</td>\n      <td>93.593720</td>\n      <td>93.664273</td>\n      <td>93.958268</td>\n      <td>95.461349</td>\n      <td>95.719286</td>\n      <td>95.927767</td>\n      <td>...</td>\n      <td>93.070936</td>\n      <td>93.000639</td>\n      <td>91.270596</td>\n      <td>91.580108</td>\n      <td>91.754487</td>\n      <td>91.728513</td>\n      <td>91.604793</td>\n      <td>91.947189</td>\n      <td>91.658315</td>\n      <td>91.806175</td>\n    </tr>\n    <tr>\n      <th>2023-10-20 00:00:10</th>\n      <td>94.715213</td>\n      <td>95.026591</td>\n      <td>95.235316</td>\n      <td>95.313226</td>\n      <td>94.059705</td>\n      <td>94.617467</td>\n      <td>94.747432</td>\n      <td>95.842825</td>\n      <td>95.969763</td>\n      <td>95.909135</td>\n      <td>...</td>\n      <td>92.952733</td>\n      <td>93.076070</td>\n      <td>91.488586</td>\n      <td>92.046498</td>\n      <td>91.844898</td>\n      <td>91.939824</td>\n      <td>92.043528</td>\n      <td>91.853341</td>\n      <td>91.672593</td>\n      <td>91.624886</td>\n    </tr>\n    <tr>\n      <th>2023-10-20 00:00:20</th>\n      <td>94.974593</td>\n      <td>95.454349</td>\n      <td>95.645314</td>\n      <td>96.036298</td>\n      <td>94.205323</td>\n      <td>94.944385</td>\n      <td>95.133431</td>\n      <td>95.812550</td>\n      <td>95.954695</td>\n      <td>95.473800</td>\n      <td>...</td>\n      <td>93.132510</td>\n      <td>92.933911</td>\n      <td>91.448184</td>\n      <td>91.995421</td>\n      <td>92.127925</td>\n      <td>91.927446</td>\n      <td>91.858514</td>\n      <td>91.925107</td>\n      <td>91.650284</td>\n      <td>91.690636</td>\n    </tr>\n    <tr>\n      <th>2023-10-20 00:00:30</th>\n      <td>95.088573</td>\n      <td>95.615394</td>\n      <td>95.345973</td>\n      <td>95.981233</td>\n      <td>94.237682</td>\n      <td>94.937895</td>\n      <td>95.262955</td>\n      <td>95.679329</td>\n      <td>96.124116</td>\n      <td>96.285184</td>\n      <td>...</td>\n      <td>93.141806</td>\n      <td>93.079938</td>\n      <td>91.639859</td>\n      <td>92.269237</td>\n      <td>92.138932</td>\n      <td>91.830187</td>\n      <td>91.735162</td>\n      <td>92.055243</td>\n      <td>91.627975</td>\n      <td>91.631461</td>\n    </tr>\n    <tr>\n      <th>2023-10-20 00:00:40</th>\n      <td>95.045343</td>\n      <td>95.747467</td>\n      <td>95.723331</td>\n      <td>96.036298</td>\n      <td>94.613061</td>\n      <td>94.905447</td>\n      <td>95.363743</td>\n      <td>95.546119</td>\n      <td>95.945735</td>\n      <td>95.734666</td>\n      <td>...</td>\n      <td>93.085711</td>\n      <td>92.953253</td>\n      <td>91.693416</td>\n      <td>92.210614</td>\n      <td>92.068175</td>\n      <td>91.732934</td>\n      <td>91.865540</td>\n      <td>91.888830</td>\n      <td>91.605665</td>\n      <td>91.777057</td>\n    </tr>\n    <tr>\n      <th>...</th>\n      <td>...</td>\n      <td>...</td>\n      <td>...</td>\n      <td>...</td>\n      <td>...</td>\n      <td>...</td>\n      <td>...</td>\n      <td>...</td>\n      <td>...</td>\n      <td>...</td>\n      <td>...</td>\n      <td>...</td>\n      <td>...</td>\n      <td>...</td>\n      <td>...</td>\n      <td>...</td>\n      <td>...</td>\n      <td>...</td>\n      <td>...</td>\n      <td>...</td>\n      <td>...</td>\n    </tr>\n    <tr>\n      <th>2023-10-20 00:59:10</th>\n      <td>14.133280</td>\n      <td>13.202007</td>\n      <td>14.655109</td>\n      <td>13.395783</td>\n      <td>12.881261</td>\n      <td>13.347467</td>\n      <td>14.003394</td>\n      <td>13.791540</td>\n      <td>13.315670</td>\n      <td>8.638013</td>\n      <td>...</td>\n      <td>14.273617</td>\n      <td>14.942827</td>\n      <td>15.556991</td>\n      <td>16.006977</td>\n      <td>15.974375</td>\n      <td>16.503697</td>\n      <td>15.470764</td>\n      <td>15.709592</td>\n      <td>14.897047</td>\n      <td>16.509679</td>\n    </tr>\n    <tr>\n      <th>2023-10-20 00:59:20</th>\n      <td>14.404453</td>\n      <td>13.254838</td>\n      <td>14.823617</td>\n      <td>13.414741</td>\n      <td>13.113848</td>\n      <td>13.495515</td>\n      <td>14.149646</td>\n      <td>13.751172</td>\n      <td>13.336033</td>\n      <td>8.324643</td>\n      <td>...</td>\n      <td>14.611813</td>\n      <td>15.441840</td>\n      <td>14.767255</td>\n      <td>15.301101</td>\n      <td>15.679551</td>\n      <td>17.480666</td>\n      <td>17.952487</td>\n      <td>17.909147</td>\n      <td>16.149065</td>\n      <td>16.690024</td>\n    </tr>\n    <tr>\n      <th>2023-10-20 00:59:30</th>\n      <td>14.615891</td>\n      <td>13.367315</td>\n      <td>14.889163</td>\n      <td>13.378633</td>\n      <td>13.346435</td>\n      <td>13.486185</td>\n      <td>14.236283</td>\n      <td>13.841595</td>\n      <td>13.356398</td>\n      <td>8.709157</td>\n      <td>...</td>\n      <td>14.643006</td>\n      <td>15.649762</td>\n      <td>14.721215</td>\n      <td>14.830516</td>\n      <td>14.572583</td>\n      <td>16.211933</td>\n      <td>18.050850</td>\n      <td>18.745121</td>\n      <td>17.931160</td>\n      <td>19.393341</td>\n    </tr>\n    <tr>\n      <th>2023-10-20 00:59:40</th>\n      <td>14.642615</td>\n      <td>13.516433</td>\n      <td>14.928968</td>\n      <td>13.546058</td>\n      <td>13.341177</td>\n      <td>13.703593</td>\n      <td>14.304906</td>\n      <td>13.964716</td>\n      <td>13.376761</td>\n      <td>8.400868</td>\n      <td>...</td>\n      <td>14.278542</td>\n      <td>15.224247</td>\n      <td>14.594368</td>\n      <td>14.520702</td>\n      <td>14.617396</td>\n      <td>15.746878</td>\n      <td>15.393478</td>\n      <td>15.898081</td>\n      <td>18.503179</td>\n      <td>23.342175</td>\n    </tr>\n    <tr>\n      <th>2023-10-20 00:59:50</th>\n      <td>14.626895</td>\n      <td>13.767801</td>\n      <td>15.089562</td>\n      <td>13.764367</td>\n      <td>13.538014</td>\n      <td>13.898008</td>\n      <td>14.531361</td>\n      <td>13.989340</td>\n      <td>13.524526</td>\n      <td>8.720212</td>\n      <td>...</td>\n      <td>14.209957</td>\n      <td>14.892540</td>\n      <td>14.642289</td>\n      <td>14.596063</td>\n      <td>14.842249</td>\n      <td>15.849437</td>\n      <td>15.706522</td>\n      <td>16.252976</td>\n      <td>15.627911</td>\n      <td>17.733592</td>\n    </tr>\n  </tbody>\n</table>\n<p>360 rows × 382 columns</p>\n</div>"
     },
     "execution_count": 3,
     "metadata": {},
     "output_type": "execute_result"
    }
   ],
   "source": [
    "df_a = pd.read_hdf(datafile, mode=\"r\", key=\"data_a\")\n",
    "df_b = pd.read_hdf(datafile, mode=\"r\", key=\"data_b\")\n",
    "df_a"
   ],
   "metadata": {
    "collapsed": false,
    "ExecuteTime": {
     "end_time": "2023-10-27T20:16:44.334024400Z",
     "start_time": "2023-10-27T20:16:44.274727500Z"
    }
   },
   "id": "52735900e6ebb7da"
  },
  {
   "cell_type": "markdown",
   "source": [
    "It's necessary to provide the CMV for each time period. These precomputed values for the time periods in the data file are provided here. It's also possible to compute them directly using methods in `solartoolbox.cmv`. Note that it's necessary for the CMVs to be roughly perpendicular, because the matrix calculation associated with triangulating the predicted position becomes singular for CMVs that are too close to parallel (or anti-parallel)."
   ],
   "metadata": {
    "collapsed": false
   },
   "id": "570772196a5b0c89"
  },
  {
   "cell_type": "code",
   "execution_count": 4,
   "outputs": [],
   "source": [
    "cmv_a = spatial.pol2rect(9.52, 0.62)\n",
    "cmv_b = spatial.pol2rect(8.47, 2.17)"
   ],
   "metadata": {
    "collapsed": false,
    "ExecuteTime": {
     "end_time": "2023-10-27T20:16:44.389756100Z",
     "start_time": "2023-10-27T20:16:44.327910300Z"
    }
   },
   "id": "a123a9f6808552e9"
  },
  {
   "cell_type": "markdown",
   "source": [
    "## Perform the Field Analysis\n",
    "A high level execution of the field routine for a single CMV pair is performed by `compute_predicted_position`. This routine works on a single combiner at a time and on a single CMV pair at a time. Running it in a loop allows multiple combiners to be tested (only 10 points are shown here, due to computational time considerations). It returns a variable (`com`) that holds the predicted position of the target combiner on the basis of other neighboring combiners that that serve as a spatial reference. The predicted position from each individual neighbor combiner is provided in the returned variable `pos`, which could be used to analyze the quality of the predictions. \n",
    "\n",
    "Results are stored in a new DataFrame (`df`).   "
   ],
   "metadata": {
    "collapsed": false
   },
   "id": "1ae08c5c6f7572fc"
  },
  {
   "cell_type": "code",
   "execution_count": 5,
   "outputs": [],
   "source": [
    "df = pd.DataFrame(index=pos_utm.index, columns=['E', 'N', 'com-E', 'com-N'])\n",
    "\n",
    "for ref in pos_utm.index[46:62]:\n",
    "\n",
    "    com, pos, _ = field.compute_predicted_position(\n",
    "        [df_a, df_b],  # The dataframes with the two one hour periods\n",
    "        pos_utm,  # the dataframe specifying the combiner positions\n",
    "        ref,  # the combiner id to calculate the position for\n",
    "        [cmv_a, cmv_b],  # The two individual CMVs for the DFs\n",
    "        mode='preavg',  # Mode for downselecting the neighboring points\n",
    "        ndownsel=8)  # Num points to use for downselecting\n",
    "\n",
    "    # Add this combiner's calculated position to the output DataFrame\n",
    "    df.loc[ref] = [pos_utm.loc[ref]['E'], pos_utm.loc[ref]['N'], com[0], com[1]]\n"
   ],
   "metadata": {
    "collapsed": false,
    "ExecuteTime": {
     "end_time": "2023-10-27T20:17:35.652395700Z",
     "start_time": "2023-10-27T20:16:44.340147500Z"
    }
   },
   "id": "19fd2b5b0817d6d"
  },
  {
   "cell_type": "markdown",
   "source": [
    "## Results\n",
    "The following code generates a plot showing the location of the combiners in the entire plant. The red lines indicate the difference between the expected and calculated positions of the combiners tested. The CMVs for the two time periods are indicated by the green and blue arrows to the side of the plot.\n",
    "\n",
    "The results shown here indicate combiners whose predicted position generally agrees with the expected position from the plant design. It can be helpful to repeat this calculation for different CMV pairs and to average the positions to determine the degree to which the predictions are repeatable and independent of the CMV.  "
   ],
   "metadata": {
    "collapsed": false
   },
   "id": "4ca9ab6067a4ba1b"
  },
  {
   "cell_type": "code",
   "execution_count": 6,
   "outputs": [
    {
     "data": {
      "text/plain": "<Figure size 600x600 with 1 Axes>",
      "image/png": "[encoded data removed]"
     },
     "metadata": {},
     "output_type": "display_data"
    }
   ],
   "source": [
    "plt.figure(figsize=(6, 6))\n",
    "plt.scatter(pos_utm['E'], pos_utm['N'])\n",
    "\n",
    "for row in df.iterrows():\n",
    "    r = row[1]\n",
    "    plt.plot([r['E'], r['com-E']], [r['N'], r['com-N']], 'r-+')\n",
    "\n",
    "# Plot some arrows to show the CMV\n",
    "for cmv, color in zip([cmv_a, cmv_b],['green','blue']):\n",
    "    velvec = np.array(spatial.unit(cmv)) * 100\n",
    "    plt.arrow(-100, 600, velvec[0], velvec[1],\n",
    "              length_includes_head=True, width=7, head_width=20, color=color)\n",
    "\n",
    "plt.axis('equal')\n",
    "plt.xlabel('E')\n",
    "plt.ylabel('N')\n",
    "plt.title(f'Predicted Positions')\n",
    "axes = plt.gca()\n",
    "axes.xaxis.set_ticklabels([])\n",
    "axes.yaxis.set_ticklabels([])\n",
    "plt.tight_layout()\n",
    "\n",
    "plt.show()\n"
   ],
   "metadata": {
    "collapsed": false,
    "ExecuteTime": {
     "end_time": "2023-10-27T20:17:36.421957500Z",
     "start_time": "2023-10-27T20:17:35.656386100Z"
    }
   },
   "id": "7bb614e42f3b336b"
  }
 ],
 "metadata": {
  "kernelspec": {
   "display_name": "Python 3",
   "language": "python",
   "name": "python3"
  },
  "language_info": {
   "codemirror_mode": {
    "name": "ipython",
    "version": 2
   },
   "file_extension": ".py",
   "mimetype": "text/x-python",
   "name": "python",
   "nbconvert_exporter": "python",
   "pygments_lexer": "ipython2",
   "version": "2.7.6"
  }
 },
 "nbformat": 4,
 "nbformat_minor": 5
}
